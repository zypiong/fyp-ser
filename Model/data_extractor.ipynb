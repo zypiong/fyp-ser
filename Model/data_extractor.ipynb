{
 "cells": [
  {
   "cell_type": "code",
   "execution_count": 1,
   "id": "5b24d96b",
   "metadata": {},
   "outputs": [],
   "source": [
    "import numpy as np\n",
    "import os\n",
    "import librosa\n",
    "import librosa.display as dis\n",
    "import time\n",
    "import matplotlib.pyplot as plt\n",
    "\n",
    "from config import DATASET_DIR_PATH"
   ]
  },
  {
   "cell_type": "code",
   "execution_count": 3,
   "id": "4a8d4754",
   "metadata": {},
   "outputs": [],
   "source": [
    "# RAVDESS native sample rate is 48k\n",
    "SAMPLE_RATE = 48000\n",
    "\n",
    "def get_waveforms(path):\n",
    "    \"\"\"\n",
    "    load all audio file from path\n",
    "    load full 5 seconds of the audio file; nativve sample rate = 48k\n",
    "    \"\"\"\n",
    "    waveforms = [] # waveforms to augment later\n",
    "    emotions = []  # emotion labels\n",
    "    file_count = 0\n",
    "    \n",
    "    for root, subdr, files in os.walk(path):\n",
    "        for file in files:\n",
    "            X, _ = librosa.load(os.path.join(root, file), duration=3, offset=0.5, res_type='kaiser_fast', sr=SAMPLE_RATE)\n",
    "\n",
    "            waveform = np.zeros((SAMPLE_RATE*3,))\n",
    "            waveform[:len(X)] = X\n",
    "\n",
    "            # The instruction below converts the labels (from 1 to 8) to a series from 0 to 7\n",
    "            # This is because our predictor needs to start from 0 otherwise it will try to predict also 0.\n",
    "            label = int(file[7:8]) - 1\n",
    "\n",
    "            waveforms.append(waveform)\n",
    "            emotions.append(label)\n",
    "\n",
    "            file_count += 1\n",
    "            # keep track of data loader's progress\n",
    "            print('\\r'+f' Processed {file_count}/{5252} audio samples',end='')\n",
    "\n",
    "    return waveforms, emotions\n",
    "\n",
    "\n",
    "def get_features(waveforms):\n",
    "    features = []\n",
    "    file_count = 0\n",
    "    \n",
    "    for waveform in waveforms:\n",
    "        mfccs = librosa.feature.mfcc(waveform,\n",
    "                                     sr=SAMPLE_RATE,\n",
    "                                     n_mfcc=40,\n",
    "                                     n_fft=1024,\n",
    "                                     win_length=512,\n",
    "                                     window='hamming',\n",
    "                                     n_mels=128,\n",
    "                                     fmax=SAMPLE_RATE/2)\n",
    "        features.append(mfccs)\n",
    "        file_count += 1\n",
    "        # print progress \n",
    "        print('\\r'+f' Processed {file_count}/{len(waveforms)} waveforms',end='')\n",
    "\n",
    "    return features"
   ]
  },
  {
   "cell_type": "code",
   "execution_count": 4,
   "id": "4f3681b5",
   "metadata": {},
   "outputs": [
    {
     "name": "stdout",
     "output_type": "stream",
     "text": [
      " Processed 5252/5252 audio samples"
     ]
    }
   ],
   "source": [
    "# load data \n",
    "# init explicitly to prevent data leakage from past sessions\n",
    "# RAVDESS - 1440 speech + 1012 song\n",
    "# TESS - 2800 speech\n",
    "# TOTAL - 1440 + 1012 + 2800 = 5252\n",
    "\n",
    "waveforms, emotions = [], []\n",
    "waveforms, emotions = get_waveforms(path=DATASET_DIR_PATH)"
   ]
  },
  {
   "cell_type": "code",
   "execution_count": 5,
   "id": "d1e08b94",
   "metadata": {},
   "outputs": [
    {
     "name": "stdout",
     "output_type": "stream",
     "text": [
      "Waveforms set: 5252 samples\n",
      "Waveform signal length: 144000\n",
      "Emotions set: 5252 sample labels\n"
     ]
    }
   ],
   "source": [
    "print(f'Waveforms set: {len(waveforms)} samples')\n",
    "# we have 1440 waveforms but we need to know their length too; should be 5 sec * 48k = 240k\n",
    "print(f'Waveform signal length: {len(waveforms[0])}')\n",
    "print(f'Emotions set: {len(emotions)} sample labels')"
   ]
  },
  {
   "cell_type": "code",
   "execution_count": 6,
   "id": "81c956ed",
   "metadata": {},
   "outputs": [],
   "source": [
    "emotions_dict ={\n",
    "    '0':'neutral',\n",
    "    '1':'calm',\n",
    "    '2':'happy',\n",
    "    '3':'sad',\n",
    "    '4':'angry',\n",
    "    '5':'fearful',\n",
    "    '6':'disgust',\n",
    "    '7':'surprised'\n",
    "}"
   ]
  },
  {
   "cell_type": "code",
   "execution_count": 7,
   "id": "7853560e",
   "metadata": {},
   "outputs": [
    {
     "name": "stdout",
     "output_type": "stream",
     "text": [
      "Training waveforms:(4196, 144000), y_train:(4196,)\n",
      "Validation waveforms:(527, 144000), y_valid:(527,)\n",
      "Test waveforms:(529, 144000), y_test:(529,)\n",
      "\n",
      "Sets are unique: 5252 samples out of 5252 are unique\n"
     ]
    }
   ],
   "source": [
    "# create storage for train, validation, test sets and their indices\n",
    "train_set,valid_set,test_set = [],[],[]\n",
    "X_train,X_valid,X_test = [],[],[]\n",
    "y_train,y_valid,y_test = [],[],[]\n",
    "\n",
    "# convert waveforms to array for processing\n",
    "waveforms = np.array(waveforms)\n",
    "\n",
    "# process each emotion separately to make sure we build balanced train/valid/test sets \n",
    "for emotion_num in range(len(emotions_dict)):\n",
    "        \n",
    "    # find all indices of a single unique emotion\n",
    "    emotion_indices = [index for index, emotion in enumerate(emotions) if emotion==emotion_num]\n",
    "\n",
    "    # seed for reproducibility \n",
    "    np.random.seed(69)\n",
    "    # shuffle indicies \n",
    "    emotion_indices = np.random.permutation(emotion_indices)\n",
    "\n",
    "    # store dim (length) of the emotion list to make indices\n",
    "    dim = len(emotion_indices)\n",
    "\n",
    "    # store indices of training, validation and test sets in 80/10/10 proportion\n",
    "    # train set is first 80%\n",
    "    train_indices = emotion_indices[:int(0.8*dim)]\n",
    "    # validation set is next 10% (between 80% and 90%)\n",
    "    valid_indices = emotion_indices[int(0.8*dim):int(0.9*dim)]\n",
    "    # test set is last 10% (between 90% - end/100%)\n",
    "    test_indices = emotion_indices[int(0.9*dim):]\n",
    "\n",
    "    # create train waveforms/labels sets\n",
    "    X_train.append(waveforms[train_indices,:])\n",
    "    y_train.append(np.array([emotion_num]*len(train_indices),dtype=np.int32))\n",
    "    # create validation waveforms/labels sets\n",
    "    X_valid.append(waveforms[valid_indices,:])\n",
    "    y_valid.append(np.array([emotion_num]*len(valid_indices),dtype=np.int32))\n",
    "    # create test waveforms/labels sets\n",
    "    X_test.append(waveforms[test_indices,:])\n",
    "    y_test.append(np.array([emotion_num]*len(test_indices),dtype=np.int32))\n",
    "\n",
    "    # store indices for each emotion set to verify uniqueness between sets \n",
    "    train_set.append(train_indices)\n",
    "    valid_set.append(valid_indices)\n",
    "    test_set.append(test_indices)\n",
    "\n",
    "# concatenate, in order, all waveforms back into one array \n",
    "X_train = np.concatenate(X_train,axis=0)\n",
    "X_valid = np.concatenate(X_valid,axis=0)\n",
    "X_test = np.concatenate(X_test,axis=0)\n",
    "\n",
    "# concatenate, in order, all emotions back into one array \n",
    "y_train = np.concatenate(y_train,axis=0)\n",
    "y_valid = np.concatenate(y_valid,axis=0)\n",
    "y_test = np.concatenate(y_test,axis=0)\n",
    "\n",
    "# combine and store indices for all emotions' train, validation, test sets to verify uniqueness of sets\n",
    "train_set = np.concatenate(train_set,axis=0)\n",
    "valid_set = np.concatenate(valid_set,axis=0)\n",
    "test_set = np.concatenate(test_set,axis=0)\n",
    "\n",
    "# check shape of each set\n",
    "print(f'Training waveforms:{X_train.shape}, y_train:{y_train.shape}')\n",
    "print(f'Validation waveforms:{X_valid.shape}, y_valid:{y_valid.shape}')\n",
    "print(f'Test waveforms:{X_test.shape}, y_test:{y_test.shape}')\n",
    "\n",
    "# make sure train, validation, test sets have no overlap/are unique\n",
    "# get all unique indices across all sets and how many times each index appears (count)\n",
    "uniques, count = np.unique(np.concatenate([train_set,test_set,valid_set],axis=0), return_counts=True)\n",
    "\n",
    "# if each index appears just once, and we have 1440 such unique indices, then all sets are unique\n",
    "if sum(count==1) == len(emotions):\n",
    "    print(f'\\nSets are unique: {sum(count==1)} samples out of {len(emotions)} are unique')\n",
    "else:\n",
    "    print(f'\\nSets are NOT unique: {sum(count==1)} samples out of {len(emotions)} are unique')"
   ]
  },
  {
   "cell_type": "code",
   "execution_count": 14,
   "id": "4fe7eee2",
   "metadata": {},
   "outputs": [],
   "source": [
    "from sklearn.utils import shuffle\n",
    "\n",
    "X_train, y_train = shuffle(X_train, y_train)\n",
    "X_valid, y_valid = shuffle(X_valid, y_valid)\n",
    "X_test, y_test = shuffle(X_test, y_test)"
   ]
  },
  {
   "cell_type": "code",
   "execution_count": 15,
   "id": "935b10ab",
   "metadata": {},
   "outputs": [
    {
     "name": "stdout",
     "output_type": "stream",
     "text": [
      "Train waveforms:\n",
      " Processed 4196/4196 waveforms\n",
      "\n",
      "Validation waveforms:\n",
      " Processed 527/527 waveforms\n",
      "\n",
      "Test waveforms:\n",
      " Processed 529/529 waveforms\n",
      "\n",
      "Features set: 5252 total, 4196 train, 527 validation, 529 test samples\n",
      "Features (MFC coefficient matrix) shape: 40 mel frequency coefficients x 282 time steps\n"
     ]
    }
   ],
   "source": [
    "# We extract MFCC features from waveforms and store in respective 'features' array\n",
    "\n",
    "print('Train waveforms:') # get training set features \n",
    "features_train = get_features(X_train)\n",
    "\n",
    "print('\\n\\nValidation waveforms:') # get validation set features\n",
    "features_valid = get_features(X_valid)\n",
    "\n",
    "print('\\n\\nTest waveforms:') # get test set features \n",
    "features_test = get_features(X_test)\n",
    "\n",
    "print(f'\\n\\nFeatures set: {len(features_train)+len(features_test)+len(features_valid)} total, {len(features_train)} train, {len(features_valid)} validation, {len(features_test)} test samples')\n",
    "print(f'Features (MFC coefficient matrix) shape: {len(features_train[0])} mel frequency coefficients x {len(features_train[0][1])} time steps')"
   ]
  },
  {
   "cell_type": "markdown",
   "id": "415b4617",
   "metadata": {},
   "source": [
    "## Augmenting the Data with AWGN - Additive White Gaussian Noise\n",
    "\n",
    "### Motivation\n",
    "\n",
    "Since our dataset is small, it is prone to overfitting - especially with highly parameterized deep neural net models such as the one we aim to build in this notebook. As such, we're going to want to augment our data. Generating more real samples will be immensely difficult. Instead, we can add white noise to the audio signals - not only to mask the effect of random noise present in the training set - but also to create pseudo-new training samples and offset the impact of noise intrinsic to the dataset.\n",
    "\n",
    "In addition, the RAVDESS dataset is extremely clean - we will likely want to make predictions on noisy, real-world data - yet another reason to augment the training data.\n",
    "\n",
    "We're going to use Additive White Gaussian Noise (AWGN). It's Additive because we're adding it to the source audio signal, it's Gaussian because the noise vector will be sampled from a normal distribution and have a time average of zero (zero-mean), and it's white because after a whitening transformation the noise will add power to the audio signal uniformly across the frequency distribution.\n",
    "\n",
    "We need a good balance of noise - too little will be useless, and too much will make it too difficult for the network to learn from the training data. Note that this is just for training - we would not need to add AWGN to real-world data on which we make predictions (although we could).\n",
    "\n",
    "## Math\n",
    "\n",
    "The key parameters in AWGN are the signal to noise ratio (SNR), defining the magnitude of the noise added w.r.t. the audio signal. We parameterize AWGN with the minimum and maximize SNR so we can pick a random SNR to use in augmenting each sample's waveform.\n",
    "\n",
    "We need to constrain covariance to make it true AWGN. We make a zero-mean vector of Gaussian noises (np.random.normal) that are statistically dependent. We need to apply a whitening transformation, a linear transformation taking a vector of random normal (Gaussian) variables with a known covariance matrix and mapping it to a new vector whose covariance is the identity matrix, i.e. the vector is now perfectly uncorrelated with a diaganol covariance matrix, each point of noise having variance == stdev == 1. The whitening transformation by definition transforms a vector into a white noise vector.\n",
    "\n",
    "We're going to add the AWGN augmented waveforms as new samples to our dataset. Since we generate AWGN which is random for each and every sample - random random noise - we can add multiples of our noise-augmented dataset. I'll add 2 extra identical, randomly noisy datasets with 5252 samples each to get a dataset with 5252 native + 5252x2 = 15756 noisy samples."
   ]
  },
  {
   "cell_type": "code",
   "execution_count": 16,
   "id": "a1799839",
   "metadata": {},
   "outputs": [],
   "source": [
    "def awgn_augmentation(waveform, multiples=2, bits=16, snr_min=15, snr_max=30): \n",
    "    \n",
    "    # get length of waveform (should be 3*48k = 144k)\n",
    "    wave_len = len(waveform)\n",
    "    \n",
    "    # Generate normally distributed (Gaussian) noises\n",
    "    # one for each waveform and multiple (i.e. wave_len*multiples noises)\n",
    "    noise = np.random.normal(size=(multiples, wave_len))\n",
    "    \n",
    "    # Normalize waveform and noise\n",
    "    norm_constant = 2.0**(bits-1)\n",
    "    norm_wave = waveform / norm_constant\n",
    "    norm_noise = noise / norm_constant\n",
    "    \n",
    "    # Compute power of waveform and power of noise\n",
    "    signal_power = np.sum(norm_wave ** 2) / wave_len\n",
    "    noise_power = np.sum(norm_noise ** 2, axis=1) / wave_len\n",
    "    \n",
    "    # Choose random SNR in decibels in range [15,30]\n",
    "    snr = np.random.randint(snr_min, snr_max)\n",
    "    \n",
    "    # Apply whitening transformation: make the Gaussian noise into Gaussian white noise\n",
    "    # Compute the covariance matrix used to whiten each noise \n",
    "    # actual SNR = signal/noise (power)\n",
    "    # actual noise power = 10**(-snr/10)\n",
    "    covariance = np.sqrt((signal_power / noise_power) * 10 ** (- snr / 10))\n",
    "    # Get covariance matrix with dim: (144000, 2) so we can transform 2 noises: dim (2, 144000)\n",
    "    covariance = np.ones((wave_len, multiples)) * covariance\n",
    "\n",
    "    # Since covariance and noise are arrays, * is the haddamard product \n",
    "    # Take Haddamard product of covariance and noise to generate white noise\n",
    "    multiple_augmented_waveforms = waveform + covariance.T * noise\n",
    "    \n",
    "    return multiple_augmented_waveforms\n"
   ]
  },
  {
   "cell_type": "code",
   "execution_count": 17,
   "id": "bac5294e",
   "metadata": {},
   "outputs": [],
   "source": [
    "def augment_waveforms(waveforms, features, emotions, multiples):\n",
    "    # keep track of how many waveforms we've processed so we can add correct emotion label in the same order\n",
    "    emotion_count = 0\n",
    "    # keep track of how many augmented samples we've added\n",
    "    added_count = 0\n",
    "    # convert emotion array to list for more efficient appending\n",
    "    emotions = emotions.tolist()\n",
    "\n",
    "    for waveform in waveforms:\n",
    "\n",
    "        # Generate 2 augmented multiples of the dataset, i.e. 1440 native + 1440*2 noisy = 4320 samples total\n",
    "        augmented_waveforms = awgn_augmentation(waveform, multiples=multiples)\n",
    "\n",
    "        # compute spectrogram for each of 2 augmented waveforms\n",
    "        for augmented_waveform in augmented_waveforms:\n",
    "\n",
    "            # Compute MFCCs over augmented waveforms\n",
    "            augmented_mfcc = librosa.feature.mfcc(waveform,\n",
    "                                                  sr=SAMPLE_RATE,\n",
    "                                                  n_mfcc=40,\n",
    "                                                  n_fft=1024,\n",
    "                                                  win_length=512,\n",
    "                                                  window='hamming',\n",
    "                                                  n_mels=128,\n",
    "                                                  fmax=SAMPLE_RATE/2)\n",
    "\n",
    "            # append the augmented spectrogram to the rest of the native data\n",
    "            features.append(augmented_mfcc)\n",
    "            emotions.append(emotions[emotion_count])\n",
    "\n",
    "            # keep track of new augmented samples\n",
    "            added_count += 1\n",
    "\n",
    "            # check progress\n",
    "            print('\\r'+f'Processed {emotion_count + 1}/{len(waveforms)} waveforms for {added_count}/{len(waveforms)*multiples} new augmented samples',end='')\n",
    "\n",
    "        # keep track of the emotion labels to append in order\n",
    "        emotion_count += 1\n",
    "        \n",
    "        # store augmented waveforms to check their shape\n",
    "        augmented_waveforms_temp.append(augmented_waveforms)\n",
    "    \n",
    "    return features, emotions"
   ]
  },
  {
   "cell_type": "markdown",
   "id": "13d82b9a",
   "metadata": {},
   "source": [
    "## Compute AWGN-augmented features and add to the rest of the dataset"
   ]
  },
  {
   "cell_type": "code",
   "execution_count": 18,
   "id": "6fe04206",
   "metadata": {},
   "outputs": [
    {
     "name": "stdout",
     "output_type": "stream",
     "text": [
      "Train waveforms:\n",
      "Processed 4196/4196 waveforms for 8392/8392 new augmented samples\n",
      "\n",
      "Validation waveforms:\n",
      "Processed 527/527 waveforms for 1054/1054 new augmented samples\n",
      "\n",
      "Test waveforms:\n",
      "Processed 529/529 waveforms for 1058/1058 new augmented samples\n",
      "\n",
      "Native + Augmented Features set: 15756 total, 12588 train, 1581 validation, 1587 test samples\n",
      "12588 training sample labels, 1581 validation sample labels, 1587 test sample labels\n",
      "Features (MFCC matrix) shape: 40 mel frequency coefficients x 282 time steps\n"
     ]
    }
   ],
   "source": [
    "# store augmented waveforms to verify their shape and random-ness\n",
    "augmented_waveforms_temp = []\n",
    "\n",
    "# specify multiples of our dataset to add as augmented data\n",
    "multiples = 2\n",
    "\n",
    "print('Train waveforms:') # augment waveforms of training set\n",
    "features_train , y_train = augment_waveforms(X_train, features_train, y_train, multiples)\n",
    "\n",
    "print('\\n\\nValidation waveforms:') # augment waveforms of validation set\n",
    "features_valid, y_valid = augment_waveforms(X_valid, features_valid, y_valid, multiples)\n",
    "\n",
    "print('\\n\\nTest waveforms:') # augment waveforms of test set \n",
    "features_test, y_test = augment_waveforms(X_test, features_test, y_test, multiples)\n",
    "\n",
    "# Check new shape of extracted features and data:\n",
    "print(f'\\n\\nNative + Augmented Features set: {len(features_train)+len(features_test)+len(features_valid)} total, {len(features_train)} train, {len(features_valid)} validation, {len(features_test)} test samples')\n",
    "print(f'{len(y_train)} training sample labels, {len(y_valid)} validation sample labels, {len(y_test)} test sample labels')\n",
    "print(f'Features (MFCC matrix) shape: {len(features_train[0])} mel frequency coefficients x {len(features_train[0][1])} time steps')"
   ]
  },
  {
   "cell_type": "code",
   "execution_count": 19,
   "id": "5de74215",
   "metadata": {},
   "outputs": [
    {
     "data": {
      "image/png": "[encoded data removed]",
      "text/plain": [
       "<Figure size 1080x288 with 2 Axes>"
      ]
     },
     "metadata": {
      "needs_background": "light"
     },
     "output_type": "display_data"
    },
    {
     "data": {
      "image/png": "[encoded data removed]",
      "text/plain": [
       "<Figure size 1080x288 with 2 Axes>"
      ]
     },
     "metadata": {
      "needs_background": "light"
     },
     "output_type": "display_data"
    }
   ],
   "source": [
    "# pick a random waveform, but same one from native and augmented set for easier comparison\n",
    "plt.figure(figsize=(15,4))\n",
    "plt.subplot(1, 2, 1)\n",
    "librosa.display.waveplot(waveforms[12], sr=SAMPLE_RATE)\n",
    "plt.title('Native')\n",
    "\n",
    "plt.subplot(1, 2, 2)\n",
    "# augmented waveforms are 2D len 1440 list with 2 waveforms in each position\n",
    "librosa.display.waveplot(augmented_waveforms_temp[0][0], sr=SAMPLE_RATE)\n",
    "plt.title('AWGN Augmented')\n",
    "plt.show()\n",
    "\n",
    "plt.figure(figsize=(15,4))\n",
    "plt.subplot(1, 2, 1)\n",
    "librosa.display.waveplot(augmented_waveforms_temp[12][0], sr=SAMPLE_RATE)\n",
    "plt.title('AWGN Augmented')\n",
    "\n",
    "plt.subplot(1, 2, 2)\n",
    "librosa.display.waveplot(augmented_waveforms_temp[17][0], sr=SAMPLE_RATE)\n",
    "plt.title('AWGN Augmented')\n",
    "plt.show()"
   ]
  },
  {
   "cell_type": "code",
   "execution_count": 20,
   "id": "8a9362bd",
   "metadata": {},
   "outputs": [
    {
     "name": "stdout",
     "output_type": "stream",
     "text": [
      "Shape of 4D feature array for input tensor: (12588, 1, 40, 282) train, (1581, 1, 40, 282) validation, (1587, 1, 40, 282) test\n",
      "Shape of emotion labels: (12588,) train, (1581,) validation, (1587,) test\n"
     ]
    }
   ],
   "source": [
    "# need to make dummy input channel for CNN input feature tensor\n",
    "X_train = np.expand_dims(features_train,1)\n",
    "X_valid = np.expand_dims(features_valid, 1)\n",
    "X_test = np.expand_dims(features_test,1)\n",
    "\n",
    "# convert emotion labels from list back to numpy arrays for PyTorch to work with \n",
    "y_train = np.array(y_train)\n",
    "y_valid = np.array(y_valid)\n",
    "y_test = np.array(y_test)\n",
    "\n",
    "# confiorm that we have tensor-ready 4D data array\n",
    "# should print (batch, channel, width, height) == (4320, 1, 128, 282) when multiples==2\n",
    "print(f'Shape of 4D feature array for input tensor: {X_train.shape} train, {X_valid.shape} validation, {X_test.shape} test')\n",
    "print(f'Shape of emotion labels: {y_train.shape} train, {y_valid.shape} validation, {y_test.shape} test')"
   ]
  },
  {
   "cell_type": "code",
   "execution_count": 21,
   "id": "c0dcc9dd",
   "metadata": {},
   "outputs": [],
   "source": [
    "# free up some RAM - no longer need full feature set or any waveforms \n",
    "del features_train, features_valid, features_test, waveforms, augmented_waveforms_temp"
   ]
  },
  {
   "cell_type": "code",
   "execution_count": 22,
   "id": "490938f7",
   "metadata": {},
   "outputs": [
    {
     "name": "stdout",
     "output_type": "stream",
     "text": [
      "X_train scaled:(12588, 1, 40, 282), y_train:(12588,)\n",
      "X_valid scaled:(1581, 1, 40, 282), y_valid:(1581,)\n",
      "X_test scaled:(1587, 1, 40, 282), y_test:(1587,)\n"
     ]
    }
   ],
   "source": [
    "from sklearn.preprocessing import StandardScaler\n",
    "\n",
    "scaler = StandardScaler()\n",
    "\n",
    "#### Scale the training data ####\n",
    "# store shape so we can transform it back \n",
    "N,C,H,W = X_train.shape\n",
    "# Reshape to 1D because StandardScaler operates on a 1D array\n",
    "# tell numpy to infer shape of 1D array with '-1' argument\n",
    "X_train = np.reshape(X_train, (N,-1)) \n",
    "X_train = scaler.fit_transform(X_train)\n",
    "# Transform back to NxCxHxW 4D tensor format\n",
    "X_train = np.reshape(X_train, (N,C,H,W))\n",
    "\n",
    "##### Scale the validation set ####\n",
    "N,C,H,W = X_valid.shape\n",
    "X_valid = np.reshape(X_valid, (N,-1))\n",
    "X_valid = scaler.transform(X_valid)\n",
    "X_valid = np.reshape(X_valid, (N,C,H,W))\n",
    "\n",
    "#### Scale the test set ####\n",
    "N,C,H,W = X_test.shape\n",
    "X_test = np.reshape(X_test, (N,-1))\n",
    "X_test = scaler.transform(X_test)\n",
    "X_test = np.reshape(X_test, (N,C,H,W))\n",
    "\n",
    "# check shape of each set again\n",
    "print(f'X_train scaled:{X_train.shape}, y_train:{y_train.shape}')\n",
    "print(f'X_valid scaled:{X_valid.shape}, y_valid:{y_valid.shape}')\n",
    "print(f'X_test scaled:{X_test.shape}, y_test:{y_test.shape}')"
   ]
  },
  {
   "cell_type": "code",
   "execution_count": 23,
   "id": "e10c6284",
   "metadata": {},
   "outputs": [
    {
     "name": "stdout",
     "output_type": "stream",
     "text": [
      "Features and labels saved to features_labels.npy\n"
     ]
    }
   ],
   "source": [
    "###### SAVE #########\n",
    "# choose save file name \n",
    "filename = 'features_labels.npy'\n",
    "\n",
    "# open file in write mode and write data\n",
    "with open(filename, 'wb') as f:\n",
    "    np.save(f, X_train)\n",
    "    np.save(f, X_valid)\n",
    "    np.save(f, X_test)\n",
    "    np.save(f, y_train)\n",
    "    np.save(f, y_valid)\n",
    "    np.save(f, y_test)\n",
    "\n",
    "print(f'Features and labels saved to {filename}')"
   ]
  },
  {
   "cell_type": "code",
   "execution_count": null,
   "id": "620b79df",
   "metadata": {},
   "outputs": [],
   "source": []
  }
 ],
 "metadata": {
  "kernelspec": {
   "display_name": "Python 3",
   "language": "python",
   "name": "python3"
  },
  "language_info": {
   "codemirror_mode": {
    "name": "ipython",
    "version": 3
   },
   "file_extension": ".py",
   "mimetype": "text/x-python",
   "name": "python",
   "nbconvert_exporter": "python",
   "pygments_lexer": "ipython3",
   "version": "3.8.10"
  }
 },
 "nbformat": 4,
 "nbformat_minor": 5
}
